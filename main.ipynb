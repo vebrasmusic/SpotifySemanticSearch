{
 "cells": [
  {
   "cell_type": "code",
   "execution_count": null,
   "id": "10d2dcb2",
   "metadata": {},
   "outputs": [],
   "source": [
    "# code sketch:\n",
    "# 1. small subset of songs, get lyrics / info from spotify / genius api\n",
    "#     turn lyrics coupled w metadata into vector using BERT or something\n",
    "#.    store in Pinecone? FAISS\n",
    "# 2. user input > gpt 4 / langchain to get semantic vector rep. of that\n",
    "#.     compare using cosine sim., closest 10 get suggested\n"
   ]
  },
  {
   "cell_type": "code",
   "execution_count": null,
   "id": "42729092",
   "metadata": {},
   "outputs": [],
   "source": [
    "# import all necessary files\n",
    "from setup import *\n",
    "from spotify_handler import *\n",
    "from genius_handler import *\n",
    "#from langchain_handler import *"
   ]
  },
  {
   "cell_type": "code",
   "execution_count": null,
   "id": "3e04e74b",
   "metadata": {
    "scrolled": true
   },
   "outputs": [],
   "source": [
    "songNumber = 16 # number of songs we're gonna sample from randomly\n",
    "pbar = tqdm(total = songNumber) #progress bar init\n",
    "query_offset = 1000 # number of songs to offset the search by\n",
    "max_workers = 8 # number of workers to use for the multithreading\n",
    "\n",
    "build_track_list(songNumber, query_offset, max_workers)\n",
    "songs = read_from_sql()\n",
    "\n"
   ]
  },
  {
   "cell_type": "code",
   "execution_count": null,
   "id": "a98b7122",
   "metadata": {},
   "outputs": [],
   "source": [
    "#print(len(trackList[0]))\n",
    "#print(trackList)\n",
    "print(songs)\n",
    "print(audio_features_df)"
   ]
  },
  {
   "cell_type": "code",
   "execution_count": null,
   "id": "ee0fbb1a",
   "metadata": {},
   "outputs": [],
   "source": [
    "#LANGCHAIN TIME\n",
    "# here gonna take each lyric file and summarize it / vectorize it and store in pinecone\n",
    "# initialize langchain / openAI\n",
    "\n",
    "docs=[]\n",
    "summary = []\n",
    "\n",
    "for filename in tqdm(os.listdir(directory)):\n",
    "    if filename.endswith(\".txt\"):  # check if the file is a .txt file\n",
    "        file_path = os.path.join(directory, filename)\n",
    "        # now you can do something with the file\n",
    "        loader = TextLoader(file_path)\n",
    "        doc = loader.load()\n",
    "        docs.append(doc)\n",
    "for i in tqdm(docs):\n",
    "    summary.append(chain.run(i))\n",
    "\n",
    "        "
   ]
  },
  {
   "cell_type": "code",
   "execution_count": null,
   "id": "6d64771d",
   "metadata": {},
   "outputs": [],
   "source": [
    "pinecone.init(\n",
    "    api_key=PINECONE_API_KEY,\n",
    "    environment='asia-northeast1-gcp'\n",
    ")\n",
    "\n",
    "index_name=\"spotifysemantic\"\n",
    "\n",
    "for i in tqdm(docs):\n",
    "    docsearch=Pinecone.from_documents(i, embeddings, index_name=index_name)\n",
    "\n",
    "\n",
    "\n"
   ]
  },
  {
   "cell_type": "code",
   "execution_count": null,
   "id": "4ab09df8",
   "metadata": {},
   "outputs": [],
   "source": [
    "docsearch = Pinecone.from_existing_index(index_name, embeddings)\n",
    "query = \"songs for the best day of my life\"\n",
    "ans = docsearch.similarity_search(query)\n",
    "\n",
    "for i in ans:\n",
    "    print(i.metadata)"
   ]
  },
  {
   "cell_type": "code",
   "execution_count": null,
   "id": "57eac965",
   "metadata": {},
   "outputs": [],
   "source": []
  }
 ],
 "metadata": {
  "kernelspec": {
   "display_name": "Python 3 (ipykernel)",
   "language": "python",
   "name": "python3"
  },
  "language_info": {
   "codemirror_mode": {
    "name": "ipython",
    "version": 3
   },
   "file_extension": ".py",
   "mimetype": "text/x-python",
   "name": "python",
   "nbconvert_exporter": "python",
   "pygments_lexer": "ipython3",
   "version": "3.11.2"
  }
 },
 "nbformat": 4,
 "nbformat_minor": 5
}
