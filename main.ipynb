{
 "cells": [
  {
   "cell_type": "code",
   "execution_count": null,
   "id": "10d2dcb2",
   "metadata": {},
   "outputs": [],
   "source": [
    "# code sketch:\n",
    "# 1. small subset of songs, get lyrics / info from spotify / genius api\n",
    "#     turn lyrics coupled w metadata into vector using BERT or something\n",
    "#.    store in Pinecone? FAISS\n",
    "# 2. user input > gpt 4 / langchain to get semantic vector rep. of that\n",
    "#.     compare using cosine sim., closest 10 get suggested\n"
   ]
  },
  {
   "cell_type": "code",
   "execution_count": 1,
   "id": "42729092",
   "metadata": {},
   "outputs": [
    {
     "name": "stderr",
     "output_type": "stream",
     "text": [
      "/Library/Frameworks/Python.framework/Versions/3.11/lib/python3.11/site-packages/pinecone/index.py:4: TqdmExperimentalWarning: Using `tqdm.autonotebook.tqdm` in notebook mode. Use `tqdm.tqdm` instead to force console mode (e.g. in jupyter console)\n",
      "  from tqdm.autonotebook import tqdm\n"
     ]
    }
   ],
   "source": [
    "# import all necessary files\n",
    "from setup import *\n",
    "from spotify_handler import *\n",
    "from genius_handler import *\n",
    "#from langchain_handler import *"
   ]
  },
  {
   "cell_type": "code",
   "execution_count": 2,
   "id": "3e04e74b",
   "metadata": {
    "scrolled": true
   },
   "outputs": [
    {
     "name": "stderr",
     "output_type": "stream",
     "text": [
      "                                      \n",
      "                                      \n",
      "  0%|          | 0/10 [00:02<?, ?it/s]        "
     ]
    },
    {
     "name": "stdout",
     "output_type": "stream",
     "text": [
      "1\n",
      "2\n"
     ]
    },
    {
     "name": "stderr",
     "output_type": "stream",
     "text": [
      "                                      \n",
      "  0%|          | 0/10 [00:02<?, ?it/s]        "
     ]
    },
    {
     "name": "stdout",
     "output_type": "stream",
     "text": [
      "3\n",
      "No lyrics found for Zeppelin See by Montbretia.\n"
     ]
    },
    {
     "name": "stderr",
     "output_type": "stream",
     "text": [
      "                                      \n",
      "  0%|          | 0/10 [00:04<?, ?it/s]        "
     ]
    },
    {
     "name": "stdout",
     "output_type": "stream",
     "text": [
      "4\n",
      "No lyrics found for Belly Dancer - LUM!X Remix by Imanbek.\n"
     ]
    },
    {
     "name": "stderr",
     "output_type": "stream",
     "text": [
      "                                      \n",
      "                                              \n",
      "  0%|          | 0/10 [00:06<?, ?it/s]        "
     ]
    },
    {
     "name": "stdout",
     "output_type": "stream",
     "text": [
      "5\n",
      "6\n"
     ]
    },
    {
     "name": "stderr",
     "output_type": "stream",
     "text": [
      "                                      \n",
      "  0%|          | 0/10 [00:06<?, ?it/s]        "
     ]
    },
    {
     "name": "stdout",
     "output_type": "stream",
     "text": [
      "7\n"
     ]
    },
    {
     "name": "stderr",
     "output_type": "stream",
     "text": [
      "                                      \n",
      "  0%|          | 0/10 [00:07<?, ?it/s]        "
     ]
    },
    {
     "name": "stdout",
     "output_type": "stream",
     "text": [
      "8\n",
      "Timeout occurred when getting lyrics for No Role Modelz by J. Cole. Waiting 10 seconds before retrying...\n"
     ]
    },
    {
     "name": "stderr",
     "output_type": "stream",
     "text": [
      "                                      \n",
      "  0%|          | 0/10 [00:21<?, ?it/s]        "
     ]
    },
    {
     "name": "stdout",
     "output_type": "stream",
     "text": [
      "9\n"
     ]
    },
    {
     "name": "stderr",
     "output_type": "stream",
     "text": [
      "                                      \n",
      "  0%|          | 0/10 [00:22<?, ?it/s]        "
     ]
    },
    {
     "name": "stdout",
     "output_type": "stream",
     "text": [
      "10\n"
     ]
    },
    {
     "name": "stderr",
     "output_type": "stream",
     "text": [
      "100%|██████████| 10/10 [00:25<00:00,  2.53s/it]\n"
     ]
    }
   ],
   "source": [
    "songNumber =  10 # number of songs we're gonna sample from randomly\n",
    "pbar = tqdm(total = songNumber) #progress bar init\n",
    "query_offset = 998 # number of songs to offset the search by\n",
    "max_workers = 8 # number of workers to use for the multithreading\n",
    "\n",
    "build_track_list(songNumber, query_offset, max_workers)\n",
    "songs = read_from_sql()"
   ]
  },
  {
   "cell_type": "code",
   "execution_count": 3,
   "id": "a98b7122",
   "metadata": {},
   "outputs": [
    {
     "name": "stdout",
     "output_type": "stream",
     "text": [
      "      index                                             Lyrics  \\\n",
      "0         0  51 ContributorsTranslationsPortuguêsEspañolTür...   \n",
      "1         1  98 ContributorsTranslationsTürkçeEspañolDeutsc...   \n",
      "2         2  38 ContributorsLet’s Stay Together Lyrics[Intr...   \n",
      "3         3  2 ContributorsUpgrade U (Beyoncé Experience Li...   \n",
      "4         4  109 ContributorsTranslationsEspañol​hot girl b...   \n",
      "...     ...                                                ...   \n",
      "2245      5  18 ContributorsTranslationsEspañolTürkçeLike C...   \n",
      "2246      6  21 ContributorsKilby Girl Lyrics[Verse 1]\\nWe'...   \n",
      "2247      7  22 ContributorsPeople I Don’t Like Lyrics[Chor...   \n",
      "2248      8  390 ContributorsTranslationsEspañolРусскийEngl...   \n",
      "2249      9  122 ContributorsChill Bill Lyrics[Intro: Rob $...   \n",
      "\n",
      "                                 Song Name               Artist  Danceability  \\\n",
      "0                          I’m Good (Blue)         David Guetta         0.561   \n",
      "1                                The Light           Juice WRLD         0.634   \n",
      "2                      Let's Stay Together             Al Green         0.756   \n",
      "3                  Upgrade U (feat. Jay-Z)              Beyoncé         0.593   \n",
      "4                          hot girl bummer            blackbear         0.782   \n",
      "...                                    ...                  ...           ...   \n",
      "2245          Like Crazy (English Version)                Jimin         0.623   \n",
      "2246                            Kilby Girl  The Backseat Lovers         0.329   \n",
      "2247                   People I Don't Like               UPSAHL         0.747   \n",
      "2248                        No Role Modelz              J. Cole         0.690   \n",
      "2249  Chill Bill (feat. J. Davi$ & Spooks)            Rob $tone         0.886   \n",
      "\n",
      "      Energy  Key  Loudness  Mode  Speechiness  Acousticness  \\\n",
      "0      0.965    7    -3.673     0       0.0343       0.00383   \n",
      "1      0.844   10    -3.809     0       0.0420       0.07660   \n",
      "2      0.401    7   -10.702     0       0.0526       0.58200   \n",
      "3      0.680    7    -5.556     1       0.3350       0.00182   \n",
      "4      0.559    6    -7.106     0       0.0767       0.12500   \n",
      "...      ...  ...       ...   ...          ...           ...   \n",
      "2245   0.755    7    -5.386     1       0.0415       0.00306   \n",
      "2246   0.444    1    -9.973     1       0.0417       0.05780   \n",
      "2247   0.573   11    -6.562     0       0.2950       0.26800   \n",
      "2248   0.521   10    -8.492     0       0.3390       0.32400   \n",
      "2249   0.427    6   -10.028     1       0.1450       0.03120   \n",
      "\n",
      "      Instrumentalness  Liveness  Valence    Tempo Duration (ms)  \\\n",
      "0             0.000007    0.3710    0.304  128.040          None   \n",
      "1             0.000000    0.0904    0.246   85.036          None   \n",
      "2             0.011000    0.0541    0.514  101.954          None   \n",
      "3             0.000048    0.3100    0.483   84.547          None   \n",
      "4             0.000000    0.3850    0.685  129.992          None   \n",
      "...                ...       ...      ...      ...           ...   \n",
      "2245          0.000000    0.3870    0.320  119.957          None   \n",
      "2246          0.035200    0.1130    0.225  162.279          None   \n",
      "2247          0.000000    0.3020    0.551   90.036          None   \n",
      "2248          0.000000    0.0534    0.494  100.028          None   \n",
      "2249          0.000990    0.0906    0.230  108.034          None   \n",
      "\n",
      "     Time signature  Duration_ms  Time_Signature  \n",
      "0              None     175238.0             4.0  \n",
      "1              None     172218.0             4.0  \n",
      "2              None     199396.0             4.0  \n",
      "3              None     273053.0             4.0  \n",
      "4              None     188344.0             1.0  \n",
      "...             ...          ...             ...  \n",
      "2245           None     212254.0             4.0  \n",
      "2246           None     282206.0             4.0  \n",
      "2247           None     142766.0             4.0  \n",
      "2248           None     292799.0             4.0  \n",
      "2249           None     177184.0             4.0  \n",
      "\n",
      "[2250 rows x 19 columns]\n"
     ]
    }
   ],
   "source": [
    "#print(len(trackList[0]))\n",
    "#print(trackList)\n",
    "print(songs)\n",
    "\n",
    "#songs.to_csv(\"songs.csv\", sep=\"|\")"
   ]
  },
  {
   "cell_type": "code",
   "execution_count": null,
   "id": "ee0fbb1a",
   "metadata": {},
   "outputs": [],
   "source": [
    "#LANGCHAIN TIME\n",
    "# here gonna take each lyric file and summarize it / vectorize it and store in pinecone\n",
    "# initialize langchain / openAI\n",
    "\n",
    "docs=[]\n",
    "summary = []\n",
    "\n",
    "for filename in tqdm(os.listdir(directory)):\n",
    "    if filename.endswith(\".txt\"):  # check if the file is a .txt file\n",
    "        file_path = os.path.join(directory, filename)\n",
    "        # now you can do something with the file\n",
    "        loader = TextLoader(file_path)\n",
    "        doc = loader.load()\n",
    "        docs.append(doc)\n",
    "for i in tqdm(docs):\n",
    "    summary.append(chain.run(i))\n",
    "\n",
    "        "
   ]
  },
  {
   "cell_type": "code",
   "execution_count": null,
   "id": "6d64771d",
   "metadata": {},
   "outputs": [],
   "source": [
    "pinecone.init(\n",
    "    api_key=PINECONE_API_KEY,\n",
    "    environment='asia-northeast1-gcp'\n",
    ")\n",
    "\n",
    "index_name=\"spotifysemantic\"\n",
    "\n",
    "for i in tqdm(docs):\n",
    "    docsearch=Pinecone.from_documents(i, embeddings, index_name=index_name)\n",
    "\n",
    "\n",
    "\n"
   ]
  },
  {
   "cell_type": "code",
   "execution_count": null,
   "id": "4ab09df8",
   "metadata": {},
   "outputs": [],
   "source": [
    "docsearch = Pinecone.from_existing_index(index_name, embeddings)\n",
    "query = \"songs for the best day of my life\"\n",
    "ans = docsearch.similarity_search(query)\n",
    "\n",
    "for i in ans:\n",
    "    print(i.metadata)"
   ]
  },
  {
   "cell_type": "code",
   "execution_count": null,
   "id": "57eac965",
   "metadata": {},
   "outputs": [],
   "source": []
  }
 ],
 "metadata": {
  "kernelspec": {
   "display_name": "Python 3 (ipykernel)",
   "language": "python",
   "name": "python3"
  },
  "language_info": {
   "codemirror_mode": {
    "name": "ipython",
    "version": 3
   },
   "file_extension": ".py",
   "mimetype": "text/x-python",
   "name": "python",
   "nbconvert_exporter": "python",
   "pygments_lexer": "ipython3",
   "version": "3.11.2"
  }
 },
 "nbformat": 4,
 "nbformat_minor": 5
}
