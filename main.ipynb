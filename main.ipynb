{
 "cells": [
  {
   "cell_type": "code",
   "execution_count": 1,
   "id": "bccb575e",
   "metadata": {},
   "outputs": [],
   "source": [
    "#code sketch:\n",
    "# 1. small subset of songs, get lyrics / info from spotify / genius api\n",
    "#     turn lyrics coupled w metadata into vector using BERT or something\n",
    "#.    store in Pinecone? FAISS\n",
    "# 2. user input > gpt 4 / langchain to get semantic vector rep. of that\n",
    "#.     compare using cosine sim., closest 10 get suggested\n"
   ]
  },
  {
   "cell_type": "code",
   "execution_count": null,
   "id": "9c9cfce4",
   "metadata": {},
   "outputs": [],
   "source": []
  }
 ],
 "metadata": {
  "kernelspec": {
   "display_name": "Python 3 (ipykernel)",
   "language": "python",
   "name": "python3"
  },
  "language_info": {
   "codemirror_mode": {
    "name": "ipython",
    "version": 3
   },
   "file_extension": ".py",
   "mimetype": "text/x-python",
   "name": "python",
   "nbconvert_exporter": "python",
   "pygments_lexer": "ipython3",
   "version": "3.11.2"
  }
 },
 "nbformat": 4,
 "nbformat_minor": 5
}
