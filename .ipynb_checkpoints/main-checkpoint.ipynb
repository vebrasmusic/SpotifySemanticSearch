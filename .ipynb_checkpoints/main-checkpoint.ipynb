{
 "cells": [
  {
   "cell_type": "code",
   "execution_count": 1,
   "id": "b3edd254",
   "metadata": {},
   "outputs": [],
   "source": [
    "# code sketch:\n",
    "# 1. small subset of songs, get lyrics / info from spotify / genius api\n",
    "#     turn lyrics coupled w metadata into vector using BERT or something\n",
    "#.    store in Pinecone? FAISS\n",
    "# 2. user input > gpt 4 / langchain to get semantic vector rep. of that\n",
    "#.     compare using cosine sim., closest 10 get suggested\n"
   ]
  },
  {
   "cell_type": "code",
   "execution_count": null,
   "id": "c4ac21d0",
   "metadata": {},
   "outputs": [],
   "source": [
    "# SPOTIFY / GENIUS END:\n",
    "#.   (first, parse user input, find vector vs. \"energy\" and other things that could narrow the search)\n",
    "#    pick 100 random songs that work > get their metadata and send to genius > extract lyrics, save as text files\n",
    "#          if no lyrics, reject"
   ]
  },
  {
   "cell_type": "code",
   "execution_count": null,
   "id": "0e923870",
   "metadata": {},
   "outputs": [],
   "source": [
    "# LANGCHAIN:\n",
    "#   turn the lyrics into vectors > store in pinecone\n",
    "#   user input from gpt into langchain > comapre to vector store\n",
    "#   Find top 10 songs in song names > send back to spotify to pull up those songs as playable"
   ]
  },
  {
   "cell_type": "code",
   "execution_count": 65,
   "id": "dda80dad",
   "metadata": {},
   "outputs": [],
   "source": [
    "# Global imports\n",
    "from tqdm import tnrange, tqdm_notebook, tqdm\n",
    "from time import sleep\n",
    "from lyricsgenius import Genius\n",
    "import time\n",
    "import spotipy\n",
    "from spotipy.oauth2 import SpotifyClientCredentials\n",
    "import random\n",
    "\n",
    "#get my secret sauce variables\n",
    "from dotenv import load_dotenv\n",
    "import os\n",
    "load_dotenv() \n",
    "SPOTIFY_CLIENT_ID = os.getenv('SPOTIFY_CLIENT_ID')\n",
    "SPOTIFY_CLIENT_SECRET=os.getenv('SPOTIFY_CLIENT_SECRET')\n",
    "token = os.getenv('GENIUS_ACCESS_TOKEN')"
   ]
  },
  {
   "cell_type": "code",
   "execution_count": 64,
   "id": "5e631bf5",
   "metadata": {
    "scrolled": true
   },
   "outputs": [
    {
     "name": "stderr",
     "output_type": "stream",
     "text": [
      " 45%|██████████████████▉                       | 45/100 [02:17<02:48,  3.05s/it]\n",
      "101it [01:26,  1.61it/s]                                                        "
     ]
    },
    {
     "name": "stdout",
     "output_type": "stream",
     "text": [
      "['Get Into It (Yuh)', 'Toughest - Bonus Track', 'Just Wanna Rock', 'Timber (feat. Ke$ha)', 'Need A Favor', 'Is There Someone Else?', 'Lobet Gott in seinen Reichen, BWV 11: X. Aria: Jesu, deine Gnadenblicke (Boy-Soprano)', 'Peaches & Eggplants (feat. 21 Savage)', 'Si Fuera Fácil', 'Find Your Love', 'La Bachata', 'What You Know', 'Mad bout that', 'CASE 143', 'What the Fuck is Happening', 'Just Wanna Rock', 'Major Distribution', 'Lo Siento BB:/ (with Bad Bunny & Julieta Venegas)', 'DONT WANT IT', 'La Corriente', 'right where you left me - bonus track', 'Planting the Roots Only to Fall out the Tree', 'JUGGERNAUT (feat. Lil Uzi Vert & Pharrell Williams)', 'Hope', 'No Te Podías Quedar', 'Time of Our Lives', \"Brandy (You're a Fine Girl)\", 'Smooth Operator - Single Version', 'Starving', \"That's What You Get\", 'Me & My Dog', 'SIRENS | Z1RENZ [FEAT. J.I.D | J.1.D]', 'Cradles', 'The Beer, the Band, and the Barstool', 'Yo Voy (feat. Daddy Yankee)', 'Legends Never Die', 'Class Fight', 'Mi Cama - Remix', 'Shivers', 'All of Me', 'We Belong Together', 'Bohemian Rhapsody', 'Somebody To Love - Remastered 2011', 'Vamos Aclarando Muchas Cosas - En Vivo', 'Lean on Me', 'Playa del inglés', 'The Adults Are Talking', 'Armed & Dangerous', 'Zoom', 'Supermassive Black Hole', '4 Da Gang (with Roddy Ricch)', 'One Of Them Girls', 'Here (In Your Arms)', \"Creepin' (with The Weeknd & 21 Savage)\", 'Human', 'Overdue (with Travis Scott)', 'Celestial', 'homecoming queen?', 'Kiss and Make Up', 'Recuerda', \"I'm Yours\", 'Me and the Birds', 'The Taste of Ink', 'Bad Habits', 'Beautiful Mistakes (feat. Megan Thee Stallion)', 'Jump Around - 30 Years Remaster', 'Psycho Killer - 2005 Remaster', 'Pure Water (with Migos)', 'New Person, Same Old Mistakes', 'Man Of The Year', 'Gunpowder & Lead', 'Another Love', 'SORRY NOT SORRY', 'Destroy Myself Just For You', 'Dangerous (feat. Jeremih and PnB Rock)', 'Hey Jude - Remastered 2015', 'Trust', 'Tunnel Vision', \"ADDICTIONS (FEAT. Tre' Amani)\", 'Element', 'Low (feat. T-Pain)', 'Toxicity', 'Slide (feat. Frank Ocean & Migos)', 'Fair Trade (with Travis Scott)', 'Bloody Mary', 'deja vu', 'thank u, next', 'Ride', 'rockstar (feat. 21 Savage)', 'Kya Mohabbat Hai - Zamaanat / Soundtrack Version', 'Somebody Like You', 'Over', 'P*$$Y Fairy (OTW)', 'Last Night Lonely', 'Love In The Dark', 'Look Back at It', 'I love freaks', 'Tyler Herro', 'Pretty Heart', 'Fade Into You', 'Shorty Party']\n"
     ]
    }
   ],
   "source": [
    "#Spotify Handling, where we get the 100 sorted, random songs with lyrics:\n",
    "\n",
    "#Authentication - without user\n",
    "client_credentials_manager = SpotifyClientCredentials(client_id='36c36f81c0ff4b9da4cdbb44d12de650', client_secret='4ecf40e8b9f5443bae664b740a319465')\n",
    "sp = spotipy.Spotify(client_credentials_manager = client_credentials_manager)\n",
    "\n",
    "#pick 100 random songs\n",
    "\n",
    "import random\n",
    "import string\n",
    "\n",
    "#this part basically picks random characters from the list of all characters\n",
    "\n",
    "def get_random_search():\n",
    "    # A list of all characters that can be chosen.\n",
    "    characters = string.ascii_lowercase\n",
    "\n",
    "    # Gets a random character from the characters string.\n",
    "    random_character = random.choice(characters)\n",
    "    random_search = ''\n",
    "\n",
    "    # Places the wildcard character at the beginning, or both beginning and end, randomly.\n",
    "    switch = random.randint(0, 1)\n",
    "    if switch == 0:\n",
    "        random_search = random_character + '%'\n",
    "    elif switch == 1:\n",
    "        random_search = '%' + random_character + '%'\n",
    "    \n",
    "\n",
    "    return random_search\n",
    "\n",
    "\n",
    "trackList = [] #empty tracklist array we're gonna fill\n",
    "\n",
    "songNumber = 100 # number of songs we're gonna sample from randomly\n",
    "pbar = tqdm(total = songNumber) #progress bar init\n",
    "\n",
    "while len(trackList) <= songNumber: \n",
    "    ranNum = random.randint(0,1000) # make sure the offset is a random one so there's never repeats, and they aren't all super pop. new.\n",
    "    query = get_random_search() #use the function to get a random search on a letter, ie. e% so any song that starts with that letter\n",
    "    track = sp.search(query, limit=1, offset = ranNum, type='track') #query spotify\n",
    "    trackURI = track['tracks']['items'][0]['uri']\n",
    "    trackURI = trackURI.replace('spotify:album:', '')\n",
    "    trackName = track['tracks']['items'][0]['name']\n",
    "    audio_features = sp.audio_features(trackURI)\n",
    "    instrumentalness = audio_features[0]['instrumentalness'] #does this have lyrics?\n",
    "    \n",
    "    if instrumentalness <= 0.5: #if no lyrics, reject and get a new one\n",
    "        sleep(0.1)\n",
    "        pbar.update(1)\n",
    "        trackList.append(trackName)\n",
    "        \n",
    "\n",
    "print(trackList)\n",
    "\n"
   ]
  },
  {
   "cell_type": "code",
   "execution_count": null,
   "id": "a3b8d5c0",
   "metadata": {},
   "outputs": [],
   "source": [
    "# GENIUS PART , now we take the song lists and download the lyrics for each one into separate text files for parsing with LangCHAIN:\n",
    "# going to use lyricsgenius which is a python wrapper for GENIUS API\n"
   ]
  }
 ],
 "metadata": {
  "kernelspec": {
   "display_name": "Python 3 (ipykernel)",
   "language": "python",
   "name": "python3"
  },
  "language_info": {
   "codemirror_mode": {
    "name": "ipython",
    "version": 3
   },
   "file_extension": ".py",
   "mimetype": "text/x-python",
   "name": "python",
   "nbconvert_exporter": "python",
   "pygments_lexer": "ipython3",
   "version": "3.11.2"
  }
 },
 "nbformat": 4,
 "nbformat_minor": 5
}
